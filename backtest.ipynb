{
 "cells": [
  {
   "cell_type": "code",
   "execution_count": 1,
   "metadata": {
    "ExecuteTime": {
     "end_time": "2024-12-16T10:46:11.811990Z",
     "start_time": "2024-12-16T10:46:11.228439Z"
    }
   },
   "outputs": [],
   "source": [
    "import logging\n",
    "from strategy.utils import read_orderbook_from_url\n",
    "from strategy.strategy import StatisticalArbitrageBacktest\n",
    "\n",
    "logger = logging.getLogger()\n",
    "logger.setLevel(logging.INFO)\n",
    "logging.debug(\"test\")"
   ]
  },
  {
   "cell_type": "markdown",
   "metadata": {},
   "source": [
    "### First (basic) conditions"
   ]
  },
  {
   "cell_type": "code",
   "execution_count": 2,
   "metadata": {
    "ExecuteTime": {
     "end_time": "2024-12-16T10:46:13.564592Z",
     "start_time": "2024-12-16T10:46:13.557192Z"
    }
   },
   "outputs": [],
   "source": [
    "EXCHANGE_1 = \"bitmex\"\n",
    "EXCHANGE_2 = \"deribit\"\n",
    "\n",
    "LINKS = {\n",
    "    EXCHANGE_1: \"https://research-test.s3.eu-west-1.amazonaws.com/data/bitmex_XBTUSD_20230130_depth10.txt.gz\",\n",
    "    EXCHANGE_2: \"https://research-test.s3.eu-west-1.amazonaws.com/data/deribit_BTC-PERPETUAL_20230130_depth10.txt.gz\"\n",
    "}\n",
    "\n",
    "FEES = {EXCHANGE_1: 0.00005, EXCHANGE_2: 0.0001}\n",
    "MAX_POSITION_USD = 1_000_000\n",
    "LATENCY_MS = 5"
   ]
  },
  {
   "cell_type": "markdown",
   "metadata": {},
   "source": [
    "Initialize strategy"
   ]
  },
  {
   "cell_type": "code",
   "execution_count": 3,
   "metadata": {
    "ExecuteTime": {
     "end_time": "2024-12-16T10:46:17.399021Z",
     "start_time": "2024-12-16T10:46:17.394361Z"
    }
   },
   "outputs": [],
   "source": [
    "arbitrage_backtest = StatisticalArbitrageBacktest(\n",
    "    max_position_usd=MAX_POSITION_USD, fees=FEES, latency_ms=LATENCY_MS\n",
    ")"
   ]
  },
  {
   "cell_type": "markdown",
   "metadata": {},
   "source": [
    "Load orderbook data"
   ]
  },
  {
   "cell_type": "code",
   "execution_count": 4,
   "metadata": {
    "ExecuteTime": {
     "end_time": "2024-12-16T11:07:55.464108Z",
     "start_time": "2024-12-16T10:46:19.872266Z"
    }
   },
   "outputs": [],
   "source": [
    "bitmex_orderbook = read_orderbook_from_url(LINKS[EXCHANGE_1])\n",
    "deribit_orderbook = read_orderbook_from_url(LINKS[EXCHANGE_2])"
   ]
  },
  {
   "cell_type": "code",
   "execution_count": 5,
   "metadata": {
    "ExecuteTime": {
     "end_time": "2024-12-16T11:10:27.977543Z",
     "start_time": "2024-12-16T11:07:55.462364Z"
    }
   },
   "outputs": [
    {
     "name": "stderr",
     "output_type": "stream",
     "text": [
      "INFO:strategy.strategy:Setting orderbook data for bitmex, deribit...\n",
      "INFO:strategy.strategy:Order book data successfully set\n"
     ]
    }
   ],
   "source": [
    "arbitrage_backtest.set_data(\n",
    "    {\n",
    "        EXCHANGE_1: bitmex_orderbook.sort_values(\"timestamp\"),\n",
    "        EXCHANGE_2: deribit_orderbook.sort_values(\"timestamp\"),\n",
    "    }\n",
    ")"
   ]
  },
  {
   "cell_type": "code",
   "outputs": [
    {
     "data": {
      "text/plain": "                    timestamp_bitmex side  price_bitmex  volume_bitmex  \\\n0         2023-01-30 00:00:00.142054  Bid       23516.5         4900.0   \n1         2023-01-30 00:00:00.143591  Bid       23736.5        11900.0   \n2         2023-01-30 00:00:00.143591  Bid       23516.5         4900.0   \n3         2023-01-30 00:00:00.143945  Ask       23764.5          300.0   \n4         2023-01-30 00:00:00.143945  Ask       23746.5       141700.0   \n...                              ...  ...           ...            ...   \n120851267 2023-01-30 23:59:59.957913  Bid       22806.5        30700.0   \n120851268 2023-01-30 23:59:59.957913  Bid       22807.0          100.0   \n120851269 2023-01-30 23:59:59.957913  Ask       22808.5        33400.0   \n120851270 2023-01-30 23:59:59.957913  Ask       22808.0        82400.0   \n120851271 2023-01-30 23:59:59.957913  Bid       22803.0        27200.0   \n\n            timestamp_ms          timestamp_deribit  price_deribit  \\\n0          1675036800142 2023-01-30 00:00:00.141285        23757.0   \n1          1675036800143 2023-01-30 00:00:00.141285        23757.0   \n2          1675036800143 2023-01-30 00:00:00.141285        23757.0   \n3          1675036800143 2023-01-30 00:00:00.141285        23771.5   \n4          1675036800143 2023-01-30 00:00:00.141285        23771.5   \n...                  ...                        ...            ...   \n120851267  1675123199957 2023-01-30 23:59:59.960547        22825.0   \n120851268  1675123199957 2023-01-30 23:59:59.960547        22825.0   \n120851269  1675123199957 2023-01-30 23:59:59.960547        22835.5   \n120851270  1675123199957 2023-01-30 23:59:59.960547        22835.5   \n120851271  1675123199957 2023-01-30 23:59:59.960547        22825.0   \n\n           volume_deribit  \n0                   840.0  \n1                   840.0  \n2                   840.0  \n3                 47540.0  \n4                 47540.0  \n...                   ...  \n120851267         13880.0  \n120851268         13880.0  \n120851269         54200.0  \n120851270         54200.0  \n120851271         13880.0  \n\n[120851272 rows x 8 columns]",
      "text/html": "<div>\n<style scoped>\n    .dataframe tbody tr th:only-of-type {\n        vertical-align: middle;\n    }\n\n    .dataframe tbody tr th {\n        vertical-align: top;\n    }\n\n    .dataframe thead th {\n        text-align: right;\n    }\n</style>\n<table border=\"1\" class=\"dataframe\">\n  <thead>\n    <tr style=\"text-align: right;\">\n      <th></th>\n      <th>timestamp_bitmex</th>\n      <th>side</th>\n      <th>price_bitmex</th>\n      <th>volume_bitmex</th>\n      <th>timestamp_ms</th>\n      <th>timestamp_deribit</th>\n      <th>price_deribit</th>\n      <th>volume_deribit</th>\n    </tr>\n  </thead>\n  <tbody>\n    <tr>\n      <th>0</th>\n      <td>2023-01-30 00:00:00.142054</td>\n      <td>Bid</td>\n      <td>23516.5</td>\n      <td>4900.0</td>\n      <td>1675036800142</td>\n      <td>2023-01-30 00:00:00.141285</td>\n      <td>23757.0</td>\n      <td>840.0</td>\n    </tr>\n    <tr>\n      <th>1</th>\n      <td>2023-01-30 00:00:00.143591</td>\n      <td>Bid</td>\n      <td>23736.5</td>\n      <td>11900.0</td>\n      <td>1675036800143</td>\n      <td>2023-01-30 00:00:00.141285</td>\n      <td>23757.0</td>\n      <td>840.0</td>\n    </tr>\n    <tr>\n      <th>2</th>\n      <td>2023-01-30 00:00:00.143591</td>\n      <td>Bid</td>\n      <td>23516.5</td>\n      <td>4900.0</td>\n      <td>1675036800143</td>\n      <td>2023-01-30 00:00:00.141285</td>\n      <td>23757.0</td>\n      <td>840.0</td>\n    </tr>\n    <tr>\n      <th>3</th>\n      <td>2023-01-30 00:00:00.143945</td>\n      <td>Ask</td>\n      <td>23764.5</td>\n      <td>300.0</td>\n      <td>1675036800143</td>\n      <td>2023-01-30 00:00:00.141285</td>\n      <td>23771.5</td>\n      <td>47540.0</td>\n    </tr>\n    <tr>\n      <th>4</th>\n      <td>2023-01-30 00:00:00.143945</td>\n      <td>Ask</td>\n      <td>23746.5</td>\n      <td>141700.0</td>\n      <td>1675036800143</td>\n      <td>2023-01-30 00:00:00.141285</td>\n      <td>23771.5</td>\n      <td>47540.0</td>\n    </tr>\n    <tr>\n      <th>...</th>\n      <td>...</td>\n      <td>...</td>\n      <td>...</td>\n      <td>...</td>\n      <td>...</td>\n      <td>...</td>\n      <td>...</td>\n      <td>...</td>\n    </tr>\n    <tr>\n      <th>120851267</th>\n      <td>2023-01-30 23:59:59.957913</td>\n      <td>Bid</td>\n      <td>22806.5</td>\n      <td>30700.0</td>\n      <td>1675123199957</td>\n      <td>2023-01-30 23:59:59.960547</td>\n      <td>22825.0</td>\n      <td>13880.0</td>\n    </tr>\n    <tr>\n      <th>120851268</th>\n      <td>2023-01-30 23:59:59.957913</td>\n      <td>Bid</td>\n      <td>22807.0</td>\n      <td>100.0</td>\n      <td>1675123199957</td>\n      <td>2023-01-30 23:59:59.960547</td>\n      <td>22825.0</td>\n      <td>13880.0</td>\n    </tr>\n    <tr>\n      <th>120851269</th>\n      <td>2023-01-30 23:59:59.957913</td>\n      <td>Ask</td>\n      <td>22808.5</td>\n      <td>33400.0</td>\n      <td>1675123199957</td>\n      <td>2023-01-30 23:59:59.960547</td>\n      <td>22835.5</td>\n      <td>54200.0</td>\n    </tr>\n    <tr>\n      <th>120851270</th>\n      <td>2023-01-30 23:59:59.957913</td>\n      <td>Ask</td>\n      <td>22808.0</td>\n      <td>82400.0</td>\n      <td>1675123199957</td>\n      <td>2023-01-30 23:59:59.960547</td>\n      <td>22835.5</td>\n      <td>54200.0</td>\n    </tr>\n    <tr>\n      <th>120851271</th>\n      <td>2023-01-30 23:59:59.957913</td>\n      <td>Bid</td>\n      <td>22803.0</td>\n      <td>27200.0</td>\n      <td>1675123199957</td>\n      <td>2023-01-30 23:59:59.960547</td>\n      <td>22825.0</td>\n      <td>13880.0</td>\n    </tr>\n  </tbody>\n</table>\n<p>120851272 rows × 8 columns</p>\n</div>"
     },
     "execution_count": 6,
     "metadata": {},
     "output_type": "execute_result"
    }
   ],
   "source": [
    "arbitrage_backtest.get_data()"
   ],
   "metadata": {
    "collapsed": false,
    "ExecuteTime": {
     "end_time": "2024-12-16T11:10:28.374637Z",
     "start_time": "2024-12-16T11:10:27.986410Z"
    }
   },
   "execution_count": 6
  },
  {
   "cell_type": "markdown",
   "metadata": {},
   "source": [
    "Run backtest"
   ]
  },
  {
   "cell_type": "code",
   "execution_count": 322,
   "metadata": {},
   "outputs": [
    {
     "name": "stderr",
     "output_type": "stream",
     "text": [
      "INFO:strategy.strategy:Running Statistical Arbitrage strategy for exchanges bitmex and deribit...\n",
      "INFO:strategy.strategy:Processing orderbook data in 121 batches...\n",
      "INFO:strategy.strategy:Processed batch 1/121, Profit: 0.00000018 BTC\n",
      "INFO:strategy.strategy:Processed batch 2/121, Profit: 0.00000019 BTC\n",
      "INFO:strategy.strategy:Processed batch 3/121, Profit: 0.00000019 BTC\n",
      "INFO:strategy.strategy:Processed batch 4/121, Profit: 0.00000019 BTC\n",
      "INFO:strategy.strategy:Processed batch 5/121, Profit: 0.00000019 BTC\n",
      "INFO:strategy.strategy:Processed batch 6/121, Profit: 0.00000019 BTC\n",
      "INFO:strategy.strategy:Processed batch 7/121, Profit: 0.00000019 BTC\n",
      "INFO:strategy.strategy:Processed batch 8/121, Profit: 0.00000019 BTC\n",
      "INFO:strategy.strategy:Processed batch 9/121, Profit: 0.00000021 BTC\n",
      "INFO:strategy.strategy:Processed batch 10/121, Profit: 0.00000021 BTC\n",
      "INFO:strategy.strategy:Processed batch 11/121, Profit: 0.00000021 BTC\n",
      "INFO:strategy.strategy:Processed batch 12/121, Profit: 0.00000021 BTC\n",
      "INFO:strategy.strategy:Processed batch 13/121, Profit: 0.00000021 BTC\n",
      "INFO:strategy.strategy:Processed batch 14/121, Profit: 0.00000021 BTC\n",
      "INFO:strategy.strategy:Processed batch 15/121, Profit: 0.00000021 BTC\n",
      "INFO:strategy.strategy:Processed batch 16/121, Profit: 0.00000021 BTC\n",
      "INFO:strategy.strategy:Processed batch 17/121, Profit: 0.00000021 BTC\n",
      "INFO:strategy.strategy:Processed batch 18/121, Profit: 0.00000021 BTC\n",
      "INFO:strategy.strategy:Processed batch 19/121, Profit: 0.00000021 BTC\n",
      "INFO:strategy.strategy:Processed batch 20/121, Profit: 0.00000021 BTC\n",
      "INFO:strategy.strategy:Processed batch 21/121, Profit: 0.00000021 BTC\n",
      "INFO:strategy.strategy:Processed batch 22/121, Profit: 0.00000021 BTC\n",
      "INFO:strategy.strategy:Processed batch 23/121, Profit: 0.00000021 BTC\n",
      "INFO:strategy.strategy:Processed batch 24/121, Profit: 0.00000022 BTC\n",
      "INFO:strategy.strategy:Processed batch 25/121, Profit: 0.00000022 BTC\n",
      "INFO:strategy.strategy:Processed batch 26/121, Profit: 0.00000022 BTC\n",
      "INFO:strategy.strategy:Processed batch 27/121, Profit: 0.00000025 BTC\n",
      "INFO:strategy.strategy:Processed batch 28/121, Profit: 0.00000026 BTC\n",
      "INFO:strategy.strategy:Processed batch 29/121, Profit: 0.00000026 BTC\n",
      "INFO:strategy.strategy:Processed batch 30/121, Profit: 0.00000028 BTC\n",
      "INFO:strategy.strategy:Processed batch 31/121, Profit: 0.00000028 BTC\n",
      "INFO:strategy.strategy:Processed batch 32/121, Profit: 0.00000028 BTC\n",
      "INFO:strategy.strategy:Processed batch 33/121, Profit: 0.00000028 BTC\n",
      "INFO:strategy.strategy:Processed batch 34/121, Profit: 0.00000030 BTC\n",
      "INFO:strategy.strategy:Processed batch 35/121, Profit: 0.00000031 BTC\n",
      "INFO:strategy.strategy:Processed batch 36/121, Profit: 0.00000031 BTC\n",
      "INFO:strategy.strategy:Processed batch 37/121, Profit: 0.00000031 BTC\n",
      "INFO:strategy.strategy:Processed batch 38/121, Profit: 0.00000031 BTC\n",
      "INFO:strategy.strategy:Processed batch 39/121, Profit: 0.00000031 BTC\n",
      "INFO:strategy.strategy:Processed batch 40/121, Profit: 0.00000031 BTC\n",
      "INFO:strategy.strategy:Processed batch 41/121, Profit: 0.00000031 BTC\n",
      "INFO:strategy.strategy:Processed batch 42/121, Profit: 0.00000031 BTC\n",
      "INFO:strategy.strategy:Processed batch 43/121, Profit: 0.00000031 BTC\n",
      "INFO:strategy.strategy:Processed batch 44/121, Profit: 0.00000031 BTC\n",
      "INFO:strategy.strategy:Processed batch 45/121, Profit: 0.00000031 BTC\n",
      "INFO:strategy.strategy:Processed batch 46/121, Profit: 0.00000031 BTC\n",
      "INFO:strategy.strategy:Processed batch 47/121, Profit: 0.00000032 BTC\n",
      "INFO:strategy.strategy:Processed batch 48/121, Profit: 0.00000032 BTC\n",
      "INFO:strategy.strategy:Processed batch 49/121, Profit: 0.00000032 BTC\n",
      "INFO:strategy.strategy:Processed batch 50/121, Profit: 0.00000037 BTC\n",
      "INFO:strategy.strategy:Processed batch 51/121, Profit: 0.00000037 BTC\n",
      "INFO:strategy.strategy:Processed batch 52/121, Profit: 0.00000037 BTC\n",
      "INFO:strategy.strategy:Processed batch 53/121, Profit: 0.00000037 BTC\n",
      "INFO:strategy.strategy:Processed batch 54/121, Profit: 0.00000037 BTC\n",
      "INFO:strategy.strategy:Processed batch 55/121, Profit: 0.00000037 BTC\n",
      "INFO:strategy.strategy:Processed batch 56/121, Profit: 0.00000037 BTC\n",
      "INFO:strategy.strategy:Processed batch 57/121, Profit: 0.00000037 BTC\n",
      "INFO:strategy.strategy:Processed batch 58/121, Profit: 0.00000037 BTC\n",
      "INFO:strategy.strategy:Processed batch 59/121, Profit: 0.00000037 BTC\n",
      "INFO:strategy.strategy:Processed batch 60/121, Profit: 0.00000037 BTC\n",
      "INFO:strategy.strategy:Processed batch 61/121, Profit: 0.00000037 BTC\n",
      "INFO:strategy.strategy:Processed batch 62/121, Profit: 0.00000037 BTC\n",
      "INFO:strategy.strategy:Processed batch 63/121, Profit: 0.00000037 BTC\n",
      "INFO:strategy.strategy:Processed batch 64/121, Profit: 0.00000037 BTC\n",
      "INFO:strategy.strategy:Processed batch 65/121, Profit: 0.00000037 BTC\n",
      "INFO:strategy.strategy:Processed batch 66/121, Profit: 0.00000037 BTC\n",
      "INFO:strategy.strategy:Processed batch 67/121, Profit: 0.00000037 BTC\n",
      "INFO:strategy.strategy:Processed batch 68/121, Profit: 0.00000037 BTC\n",
      "INFO:strategy.strategy:Processed batch 69/121, Profit: 0.00000037 BTC\n",
      "INFO:strategy.strategy:Processed batch 70/121, Profit: 0.00000037 BTC\n",
      "INFO:strategy.strategy:Processed batch 71/121, Profit: 0.00000037 BTC\n",
      "INFO:strategy.strategy:Processed batch 72/121, Profit: 0.00000037 BTC\n",
      "INFO:strategy.strategy:Processed batch 73/121, Profit: 0.00000037 BTC\n",
      "INFO:strategy.strategy:Processed batch 74/121, Profit: 0.00000037 BTC\n",
      "INFO:strategy.strategy:Processed batch 75/121, Profit: 0.00000037 BTC\n",
      "INFO:strategy.strategy:Processed batch 76/121, Profit: 0.00000037 BTC\n",
      "INFO:strategy.strategy:Processed batch 77/121, Profit: 0.00000037 BTC\n",
      "INFO:strategy.strategy:Processed batch 78/121, Profit: 0.00000037 BTC\n",
      "INFO:strategy.strategy:Processed batch 79/121, Profit: 0.00000037 BTC\n",
      "INFO:strategy.strategy:Processed batch 80/121, Profit: 0.00000037 BTC\n",
      "INFO:strategy.strategy:Processed batch 81/121, Profit: 0.00000037 BTC\n",
      "INFO:strategy.strategy:Processed batch 82/121, Profit: 0.00000037 BTC\n",
      "INFO:strategy.strategy:Processed batch 83/121, Profit: 0.00000037 BTC\n",
      "INFO:strategy.strategy:Processed batch 84/121, Profit: 0.00000037 BTC\n",
      "INFO:strategy.strategy:Processed batch 85/121, Profit: 0.00000037 BTC\n",
      "INFO:strategy.strategy:Processed batch 86/121, Profit: 0.00000037 BTC\n",
      "INFO:strategy.strategy:Processed batch 87/121, Profit: 0.00000037 BTC\n",
      "INFO:strategy.strategy:Processed batch 88/121, Profit: 0.00000037 BTC\n",
      "INFO:strategy.strategy:Processed batch 89/121, Profit: 0.00000037 BTC\n",
      "INFO:strategy.strategy:Processed batch 90/121, Profit: 0.00000037 BTC\n",
      "INFO:strategy.strategy:Processed batch 91/121, Profit: 0.00000037 BTC\n",
      "INFO:strategy.strategy:Processed batch 92/121, Profit: 0.00000045 BTC\n",
      "INFO:strategy.strategy:Processed batch 93/121, Profit: 0.00000047 BTC\n",
      "INFO:strategy.strategy:Processed batch 94/121, Profit: 0.00000047 BTC\n",
      "INFO:strategy.strategy:Processed batch 95/121, Profit: 0.00000047 BTC\n",
      "INFO:strategy.strategy:Processed batch 96/121, Profit: 0.00000047 BTC\n",
      "INFO:strategy.strategy:Processed batch 97/121, Profit: 0.00000047 BTC\n",
      "INFO:strategy.strategy:Processed batch 98/121, Profit: 0.00000047 BTC\n",
      "INFO:strategy.strategy:Processed batch 99/121, Profit: 0.00000047 BTC\n",
      "INFO:strategy.strategy:Processed batch 100/121, Profit: 0.00000047 BTC\n",
      "INFO:strategy.strategy:Processed batch 101/121, Profit: 0.00000047 BTC\n",
      "INFO:strategy.strategy:Processed batch 102/121, Profit: 0.00000047 BTC\n",
      "INFO:strategy.strategy:Processed batch 103/121, Profit: 0.00000052 BTC\n",
      "INFO:strategy.strategy:Processed batch 104/121, Profit: 0.00000052 BTC\n",
      "INFO:strategy.strategy:Processed batch 105/121, Profit: 0.00000052 BTC\n",
      "INFO:strategy.strategy:Processed batch 106/121, Profit: 0.00000052 BTC\n",
      "INFO:strategy.strategy:Processed batch 107/121, Profit: 0.00000052 BTC\n",
      "INFO:strategy.strategy:Processed batch 108/121, Profit: 0.00000052 BTC\n",
      "INFO:strategy.strategy:Processed batch 109/121, Profit: 0.00000052 BTC\n",
      "INFO:strategy.strategy:Processed batch 110/121, Profit: 0.00000052 BTC\n",
      "INFO:strategy.strategy:Processed batch 111/121, Profit: 0.00000052 BTC\n",
      "INFO:strategy.strategy:Processed batch 112/121, Profit: 0.00000052 BTC\n",
      "INFO:strategy.strategy:Processed batch 113/121, Profit: 0.00000052 BTC\n",
      "INFO:strategy.strategy:Processed batch 114/121, Profit: 0.00000052 BTC\n",
      "INFO:strategy.strategy:Processed batch 115/121, Profit: 0.00000075 BTC\n",
      "INFO:strategy.strategy:Processed batch 116/121, Profit: 0.00000075 BTC\n",
      "INFO:strategy.strategy:Processed batch 117/121, Profit: 0.00000075 BTC\n",
      "INFO:strategy.strategy:Processed batch 118/121, Profit: 0.00000075 BTC\n",
      "INFO:strategy.strategy:Processed batch 119/121, Profit: 0.00000075 BTC\n",
      "INFO:strategy.strategy:Processed batch 120/121, Profit: 0.00000075 BTC\n",
      "INFO:strategy.strategy:Processed batch 121/121, Profit: 0.00000075 BTC\n",
      "INFO:strategy.strategy:Closed position on bitmex: Profit = 0.00196082 BTC\n",
      "INFO:strategy.strategy:Closed position on deribit: Profit = -0.00153090 BTC\n"
     ]
    }
   ],
   "source": [
    "res = arbitrage_backtest.run()"
   ]
  },
  {
   "cell_type": "code",
   "execution_count": 318,
   "metadata": {},
   "outputs": [
    {
     "name": "stdout",
     "output_type": "stream",
     "text": [
      "Total PnL: 0.003590184746938369 BTC\n",
      "Total volume traded: 126.86024116696836 BTC\n"
     ]
    }
   ],
   "source": [
    "print(f\"Total PnL: {res[0]} BTC\")\n",
    "print(f\"Total volume traded: {res[1]} BTC\")"
   ]
  },
  {
   "cell_type": "markdown",
   "metadata": {},
   "source": [
    "### Extension 1"
   ]
  },
  {
   "cell_type": "markdown",
   "metadata": {},
   "source": [
    "Find a profitable strategy if bitmex taker fee is $0.0175\\%$ and deribit taker fee is $0.0500\\%$."
   ]
  },
  {
   "cell_type": "code",
   "execution_count": 331,
   "metadata": {},
   "outputs": [],
   "source": [
    "NEW_FEES = {EXCHANGE_1: 0.000175, EXCHANGE_2: 0.0005}"
   ]
  },
  {
   "cell_type": "code",
   "execution_count": 333,
   "metadata": {},
   "outputs": [],
   "source": [
    "arbitrage_backtest.fees = NEW_FEES"
   ]
  },
  {
   "cell_type": "code",
   "execution_count": 334,
   "metadata": {},
   "outputs": [
    {
     "data": {
      "text/plain": [
       "{'bitmex': 0.000175, 'deribit': 0.0005}"
      ]
     },
     "execution_count": 334,
     "metadata": {},
     "output_type": "execute_result"
    }
   ],
   "source": [
    "arbitrage_backtest.fees"
   ]
  },
  {
   "cell_type": "code",
   "execution_count": 335,
   "metadata": {},
   "outputs": [
    {
     "name": "stderr",
     "output_type": "stream",
     "text": [
      "INFO:strategy.strategy:Running Statistical Arbitrage strategy for exchanges bitmex and deribit...\n"
     ]
    },
    {
     "name": "stderr",
     "output_type": "stream",
     "text": [
      "INFO:strategy.strategy:Processing orderbook data in 121 batches...\n",
      "INFO:strategy.strategy:Processed batch 1/121, Profit: -0.00000031 BTC\n",
      "INFO:strategy.strategy:Processed batch 2/121, Profit: -0.00000030 BTC\n",
      "INFO:strategy.strategy:Processed batch 3/121, Profit: -0.00000030 BTC\n",
      "INFO:strategy.strategy:Processed batch 4/121, Profit: -0.00000030 BTC\n",
      "INFO:strategy.strategy:Processed batch 5/121, Profit: -0.00000029 BTC\n",
      "INFO:strategy.strategy:Processed batch 6/121, Profit: -0.00000029 BTC\n",
      "INFO:strategy.strategy:Processed batch 7/121, Profit: -0.00000029 BTC\n",
      "INFO:strategy.strategy:Processed batch 8/121, Profit: -0.00000029 BTC\n",
      "INFO:strategy.strategy:Processed batch 9/121, Profit: -0.00000027 BTC\n",
      "INFO:strategy.strategy:Processed batch 10/121, Profit: -0.00000027 BTC\n",
      "INFO:strategy.strategy:Processed batch 11/121, Profit: -0.00000027 BTC\n",
      "INFO:strategy.strategy:Processed batch 12/121, Profit: -0.00000027 BTC\n",
      "INFO:strategy.strategy:Processed batch 13/121, Profit: -0.00000027 BTC\n",
      "INFO:strategy.strategy:Processed batch 14/121, Profit: -0.00000027 BTC\n",
      "INFO:strategy.strategy:Processed batch 15/121, Profit: -0.00000027 BTC\n",
      "INFO:strategy.strategy:Processed batch 16/121, Profit: -0.00000027 BTC\n",
      "INFO:strategy.strategy:Processed batch 17/121, Profit: -0.00000027 BTC\n",
      "INFO:strategy.strategy:Processed batch 18/121, Profit: -0.00000027 BTC\n",
      "INFO:strategy.strategy:Processed batch 19/121, Profit: -0.00000027 BTC\n",
      "INFO:strategy.strategy:Processed batch 20/121, Profit: -0.00000027 BTC\n",
      "INFO:strategy.strategy:Processed batch 21/121, Profit: -0.00000027 BTC\n",
      "INFO:strategy.strategy:Processed batch 22/121, Profit: -0.00000027 BTC\n",
      "INFO:strategy.strategy:Processed batch 23/121, Profit: -0.00000027 BTC\n",
      "INFO:strategy.strategy:Processed batch 24/121, Profit: -0.00000026 BTC\n",
      "INFO:strategy.strategy:Processed batch 25/121, Profit: -0.00000026 BTC\n",
      "INFO:strategy.strategy:Processed batch 26/121, Profit: -0.00000026 BTC\n",
      "INFO:strategy.strategy:Processed batch 27/121, Profit: -0.00000022 BTC\n",
      "INFO:strategy.strategy:Processed batch 28/121, Profit: -0.00000020 BTC\n",
      "INFO:strategy.strategy:Processed batch 29/121, Profit: -0.00000020 BTC\n",
      "INFO:strategy.strategy:Processed batch 30/121, Profit: -0.00000018 BTC\n",
      "INFO:strategy.strategy:Processed batch 31/121, Profit: -0.00000018 BTC\n",
      "INFO:strategy.strategy:Processed batch 32/121, Profit: -0.00000018 BTC\n",
      "INFO:strategy.strategy:Processed batch 33/121, Profit: -0.00000018 BTC\n",
      "INFO:strategy.strategy:Processed batch 34/121, Profit: -0.00000015 BTC\n",
      "INFO:strategy.strategy:Processed batch 35/121, Profit: -0.00000014 BTC\n",
      "INFO:strategy.strategy:Processed batch 36/121, Profit: -0.00000014 BTC\n",
      "INFO:strategy.strategy:Processed batch 37/121, Profit: -0.00000014 BTC\n",
      "INFO:strategy.strategy:Processed batch 38/121, Profit: -0.00000014 BTC\n",
      "INFO:strategy.strategy:Processed batch 39/121, Profit: -0.00000014 BTC\n",
      "INFO:strategy.strategy:Processed batch 40/121, Profit: -0.00000014 BTC\n",
      "INFO:strategy.strategy:Processed batch 41/121, Profit: -0.00000014 BTC\n",
      "INFO:strategy.strategy:Processed batch 42/121, Profit: -0.00000014 BTC\n",
      "INFO:strategy.strategy:Processed batch 43/121, Profit: -0.00000014 BTC\n",
      "INFO:strategy.strategy:Processed batch 44/121, Profit: -0.00000014 BTC\n",
      "INFO:strategy.strategy:Processed batch 45/121, Profit: -0.00000014 BTC\n",
      "INFO:strategy.strategy:Processed batch 46/121, Profit: -0.00000014 BTC\n",
      "INFO:strategy.strategy:Processed batch 47/121, Profit: -0.00000013 BTC\n",
      "INFO:strategy.strategy:Processed batch 48/121, Profit: -0.00000013 BTC\n",
      "INFO:strategy.strategy:Processed batch 49/121, Profit: -0.00000013 BTC\n",
      "INFO:strategy.strategy:Processed batch 50/121, Profit: -0.00000007 BTC\n",
      "INFO:strategy.strategy:Processed batch 51/121, Profit: -0.00000007 BTC\n",
      "INFO:strategy.strategy:Processed batch 52/121, Profit: -0.00000007 BTC\n",
      "INFO:strategy.strategy:Processed batch 53/121, Profit: -0.00000007 BTC\n",
      "INFO:strategy.strategy:Processed batch 54/121, Profit: -0.00000007 BTC\n",
      "INFO:strategy.strategy:Processed batch 55/121, Profit: -0.00000007 BTC\n",
      "INFO:strategy.strategy:Processed batch 56/121, Profit: -0.00000007 BTC\n",
      "INFO:strategy.strategy:Processed batch 57/121, Profit: -0.00000007 BTC\n",
      "INFO:strategy.strategy:Processed batch 58/121, Profit: -0.00000007 BTC\n",
      "INFO:strategy.strategy:Processed batch 59/121, Profit: -0.00000007 BTC\n",
      "INFO:strategy.strategy:Processed batch 60/121, Profit: -0.00000007 BTC\n",
      "INFO:strategy.strategy:Processed batch 61/121, Profit: -0.00000007 BTC\n",
      "INFO:strategy.strategy:Processed batch 62/121, Profit: -0.00000007 BTC\n",
      "INFO:strategy.strategy:Processed batch 63/121, Profit: -0.00000007 BTC\n",
      "INFO:strategy.strategy:Processed batch 64/121, Profit: -0.00000007 BTC\n",
      "INFO:strategy.strategy:Processed batch 65/121, Profit: -0.00000007 BTC\n",
      "INFO:strategy.strategy:Processed batch 66/121, Profit: -0.00000007 BTC\n",
      "INFO:strategy.strategy:Processed batch 67/121, Profit: -0.00000007 BTC\n",
      "INFO:strategy.strategy:Processed batch 68/121, Profit: -0.00000007 BTC\n",
      "INFO:strategy.strategy:Processed batch 69/121, Profit: -0.00000007 BTC\n",
      "INFO:strategy.strategy:Processed batch 70/121, Profit: -0.00000007 BTC\n",
      "INFO:strategy.strategy:Processed batch 71/121, Profit: -0.00000007 BTC\n",
      "INFO:strategy.strategy:Processed batch 72/121, Profit: -0.00000007 BTC\n",
      "INFO:strategy.strategy:Processed batch 73/121, Profit: -0.00000007 BTC\n",
      "INFO:strategy.strategy:Processed batch 74/121, Profit: -0.00000007 BTC\n",
      "INFO:strategy.strategy:Processed batch 75/121, Profit: -0.00000007 BTC\n",
      "INFO:strategy.strategy:Processed batch 76/121, Profit: -0.00000007 BTC\n",
      "INFO:strategy.strategy:Processed batch 77/121, Profit: -0.00000007 BTC\n",
      "INFO:strategy.strategy:Processed batch 78/121, Profit: -0.00000007 BTC\n",
      "INFO:strategy.strategy:Processed batch 79/121, Profit: -0.00000007 BTC\n",
      "INFO:strategy.strategy:Processed batch 80/121, Profit: -0.00000007 BTC\n",
      "INFO:strategy.strategy:Processed batch 81/121, Profit: -0.00000007 BTC\n",
      "INFO:strategy.strategy:Processed batch 82/121, Profit: -0.00000007 BTC\n",
      "INFO:strategy.strategy:Processed batch 83/121, Profit: -0.00000007 BTC\n",
      "INFO:strategy.strategy:Processed batch 84/121, Profit: -0.00000007 BTC\n",
      "INFO:strategy.strategy:Processed batch 85/121, Profit: -0.00000007 BTC\n",
      "INFO:strategy.strategy:Processed batch 86/121, Profit: -0.00000007 BTC\n",
      "INFO:strategy.strategy:Processed batch 87/121, Profit: -0.00000007 BTC\n",
      "INFO:strategy.strategy:Processed batch 88/121, Profit: -0.00000007 BTC\n",
      "INFO:strategy.strategy:Processed batch 89/121, Profit: -0.00000007 BTC\n",
      "INFO:strategy.strategy:Processed batch 90/121, Profit: -0.00000007 BTC\n",
      "INFO:strategy.strategy:Processed batch 91/121, Profit: -0.00000007 BTC\n",
      "INFO:strategy.strategy:Processed batch 92/121, Profit: 0.00000003 BTC\n",
      "INFO:strategy.strategy:Processed batch 93/121, Profit: 0.00000005 BTC\n",
      "INFO:strategy.strategy:Processed batch 94/121, Profit: 0.00000005 BTC\n",
      "INFO:strategy.strategy:Processed batch 95/121, Profit: 0.00000005 BTC\n",
      "INFO:strategy.strategy:Processed batch 96/121, Profit: 0.00000005 BTC\n",
      "INFO:strategy.strategy:Processed batch 97/121, Profit: 0.00000005 BTC\n",
      "INFO:strategy.strategy:Processed batch 98/121, Profit: 0.00000005 BTC\n",
      "INFO:strategy.strategy:Processed batch 99/121, Profit: 0.00000005 BTC\n",
      "INFO:strategy.strategy:Processed batch 100/121, Profit: 0.00000005 BTC\n",
      "INFO:strategy.strategy:Processed batch 101/121, Profit: 0.00000005 BTC\n",
      "INFO:strategy.strategy:Processed batch 102/121, Profit: 0.00000005 BTC\n",
      "INFO:strategy.strategy:Processed batch 103/121, Profit: 0.00000010 BTC\n",
      "INFO:strategy.strategy:Processed batch 104/121, Profit: 0.00000010 BTC\n",
      "INFO:strategy.strategy:Processed batch 105/121, Profit: 0.00000010 BTC\n",
      "INFO:strategy.strategy:Processed batch 106/121, Profit: 0.00000010 BTC\n",
      "INFO:strategy.strategy:Processed batch 107/121, Profit: 0.00000010 BTC\n",
      "INFO:strategy.strategy:Processed batch 108/121, Profit: 0.00000010 BTC\n",
      "INFO:strategy.strategy:Processed batch 109/121, Profit: 0.00000010 BTC\n",
      "INFO:strategy.strategy:Processed batch 110/121, Profit: 0.00000010 BTC\n",
      "INFO:strategy.strategy:Processed batch 111/121, Profit: 0.00000010 BTC\n",
      "INFO:strategy.strategy:Processed batch 112/121, Profit: 0.00000010 BTC\n",
      "INFO:strategy.strategy:Processed batch 113/121, Profit: 0.00000010 BTC\n",
      "INFO:strategy.strategy:Processed batch 114/121, Profit: 0.00000010 BTC\n",
      "INFO:strategy.strategy:Processed batch 115/121, Profit: 0.00000034 BTC\n",
      "INFO:strategy.strategy:Processed batch 116/121, Profit: 0.00000034 BTC\n",
      "INFO:strategy.strategy:Processed batch 117/121, Profit: 0.00000034 BTC\n",
      "INFO:strategy.strategy:Processed batch 118/121, Profit: 0.00000034 BTC\n",
      "INFO:strategy.strategy:Processed batch 119/121, Profit: 0.00000034 BTC\n",
      "INFO:strategy.strategy:Processed batch 120/121, Profit: 0.00000034 BTC\n",
      "INFO:strategy.strategy:Processed batch 121/121, Profit: 0.00000034 BTC\n",
      "INFO:strategy.strategy:Closed position on bitmex: Profit = 0.00196057 BTC\n",
      "INFO:strategy.strategy:Closed position on deribit: Profit = -0.00153028 BTC\n"
     ]
    }
   ],
   "source": [
    "res_new_fees = arbitrage_backtest.run()"
   ]
  },
  {
   "cell_type": "code",
   "execution_count": 336,
   "metadata": {},
   "outputs": [
    {
     "name": "stdout",
     "output_type": "stream",
     "text": [
      "Total PnL for new fees: 0.00043062859077335185 BTC\n",
      "Total volume traded for new fees: 129.274378881727 BTC\n"
     ]
    }
   ],
   "source": [
    "print(f\"Total PnL for new fees: {res_new_fees[0]} BTC\")\n",
    "print(f\"Total volume traded for new fees: {res_new_fees[1]} BTC\")"
   ]
  },
  {
   "cell_type": "markdown",
   "metadata": {},
   "source": [
    "The strategy remains profitable but shows significantly reduced profitability compared to when using basic fees."
   ]
  },
  {
   "cell_type": "markdown",
   "metadata": {},
   "source": [
    "### Extension 2."
   ]
  },
  {
   "cell_type": "markdown",
   "metadata": {},
   "source": [
    "The latency is 50 milliseconds"
   ]
  },
  {
   "cell_type": "code",
   "execution_count": null,
   "metadata": {},
   "outputs": [],
   "source": [
    "NEW_LATENCY = 50"
   ]
  },
  {
   "cell_type": "code",
   "execution_count": 342,
   "metadata": {},
   "outputs": [],
   "source": [
    "arbitrage_backtest.fees = FEES\n",
    "arbitrage_backtest.latency_ms = NEW_LATENCY"
   ]
  },
  {
   "cell_type": "code",
   "execution_count": 343,
   "metadata": {},
   "outputs": [
    {
     "data": {
      "text/plain": [
       "{'bitmex': 5e-05, 'deribit': 0.0001}"
      ]
     },
     "execution_count": 343,
     "metadata": {},
     "output_type": "execute_result"
    }
   ],
   "source": [
    "arbitrage_backtest.fees"
   ]
  },
  {
   "cell_type": "code",
   "execution_count": 344,
   "metadata": {},
   "outputs": [
    {
     "data": {
      "text/plain": [
       "50"
      ]
     },
     "execution_count": 344,
     "metadata": {},
     "output_type": "execute_result"
    }
   ],
   "source": [
    "arbitrage_backtest.latency_ms"
   ]
  },
  {
   "cell_type": "code",
   "execution_count": 348,
   "metadata": {},
   "outputs": [
    {
     "name": "stderr",
     "output_type": "stream",
     "text": [
      "INFO:strategy.strategy:Running Statistical Arbitrage strategy for exchanges bitmex and deribit...\n",
      "INFO:strategy.strategy:Processing orderbook data in 121 batches...\n",
      "INFO:strategy.strategy:Processed batch 1/121, Profit: 0.00000018 BTC\n",
      "INFO:strategy.strategy:Processed batch 2/121, Profit: 0.00000018 BTC\n",
      "INFO:strategy.strategy:Processed batch 3/121, Profit: 0.00000018 BTC\n",
      "INFO:strategy.strategy:Processed batch 4/121, Profit: 0.00000018 BTC\n",
      "INFO:strategy.strategy:Processed batch 5/121, Profit: 0.00000019 BTC\n",
      "INFO:strategy.strategy:Processed batch 6/121, Profit: 0.00000020 BTC\n",
      "INFO:strategy.strategy:Processed batch 7/121, Profit: 0.00000020 BTC\n",
      "INFO:strategy.strategy:Processed batch 8/121, Profit: 0.00000020 BTC\n",
      "INFO:strategy.strategy:Processed batch 9/121, Profit: 0.00000021 BTC\n",
      "INFO:strategy.strategy:Processed batch 10/121, Profit: 0.00000021 BTC\n",
      "INFO:strategy.strategy:Processed batch 11/121, Profit: 0.00000021 BTC\n",
      "INFO:strategy.strategy:Processed batch 12/121, Profit: 0.00000021 BTC\n",
      "INFO:strategy.strategy:Processed batch 13/121, Profit: 0.00000021 BTC\n",
      "INFO:strategy.strategy:Processed batch 14/121, Profit: 0.00000021 BTC\n",
      "INFO:strategy.strategy:Processed batch 15/121, Profit: 0.00000021 BTC\n",
      "INFO:strategy.strategy:Processed batch 16/121, Profit: 0.00000021 BTC\n",
      "INFO:strategy.strategy:Processed batch 17/121, Profit: 0.00000021 BTC\n",
      "INFO:strategy.strategy:Processed batch 18/121, Profit: 0.00000021 BTC\n",
      "INFO:strategy.strategy:Processed batch 19/121, Profit: 0.00000021 BTC\n",
      "INFO:strategy.strategy:Processed batch 20/121, Profit: 0.00000021 BTC\n",
      "INFO:strategy.strategy:Processed batch 21/121, Profit: 0.00000021 BTC\n",
      "INFO:strategy.strategy:Processed batch 22/121, Profit: 0.00000021 BTC\n",
      "INFO:strategy.strategy:Processed batch 23/121, Profit: 0.00000021 BTC\n",
      "INFO:strategy.strategy:Processed batch 24/121, Profit: 0.00000022 BTC\n",
      "INFO:strategy.strategy:Processed batch 25/121, Profit: 0.00000022 BTC\n",
      "INFO:strategy.strategy:Processed batch 26/121, Profit: 0.00000022 BTC\n",
      "INFO:strategy.strategy:Processed batch 27/121, Profit: 0.00000026 BTC\n",
      "INFO:strategy.strategy:Processed batch 28/121, Profit: 0.00000028 BTC\n",
      "INFO:strategy.strategy:Processed batch 29/121, Profit: 0.00000028 BTC\n",
      "INFO:strategy.strategy:Processed batch 30/121, Profit: 0.00000030 BTC\n",
      "INFO:strategy.strategy:Processed batch 31/121, Profit: 0.00000030 BTC\n",
      "INFO:strategy.strategy:Processed batch 32/121, Profit: 0.00000030 BTC\n",
      "INFO:strategy.strategy:Processed batch 33/121, Profit: 0.00000030 BTC\n",
      "INFO:strategy.strategy:Processed batch 34/121, Profit: 0.00000033 BTC\n",
      "INFO:strategy.strategy:Processed batch 35/121, Profit: 0.00000034 BTC\n",
      "INFO:strategy.strategy:Processed batch 36/121, Profit: 0.00000034 BTC\n",
      "INFO:strategy.strategy:Processed batch 37/121, Profit: 0.00000034 BTC\n",
      "INFO:strategy.strategy:Processed batch 38/121, Profit: 0.00000034 BTC\n",
      "INFO:strategy.strategy:Processed batch 39/121, Profit: 0.00000034 BTC\n",
      "INFO:strategy.strategy:Processed batch 40/121, Profit: 0.00000034 BTC\n",
      "INFO:strategy.strategy:Processed batch 41/121, Profit: 0.00000034 BTC\n",
      "INFO:strategy.strategy:Processed batch 42/121, Profit: 0.00000034 BTC\n",
      "INFO:strategy.strategy:Processed batch 43/121, Profit: 0.00000034 BTC\n",
      "INFO:strategy.strategy:Processed batch 44/121, Profit: 0.00000034 BTC\n",
      "INFO:strategy.strategy:Processed batch 45/121, Profit: 0.00000034 BTC\n",
      "INFO:strategy.strategy:Processed batch 46/121, Profit: 0.00000034 BTC\n",
      "INFO:strategy.strategy:Processed batch 47/121, Profit: 0.00000035 BTC\n",
      "INFO:strategy.strategy:Processed batch 48/121, Profit: 0.00000035 BTC\n",
      "INFO:strategy.strategy:Processed batch 49/121, Profit: 0.00000035 BTC\n",
      "INFO:strategy.strategy:Processed batch 50/121, Profit: 0.00000040 BTC\n",
      "INFO:strategy.strategy:Processed batch 51/121, Profit: 0.00000040 BTC\n",
      "INFO:strategy.strategy:Processed batch 52/121, Profit: 0.00000040 BTC\n",
      "INFO:strategy.strategy:Processed batch 53/121, Profit: 0.00000040 BTC\n",
      "INFO:strategy.strategy:Processed batch 54/121, Profit: 0.00000040 BTC\n",
      "INFO:strategy.strategy:Processed batch 55/121, Profit: 0.00000040 BTC\n",
      "INFO:strategy.strategy:Processed batch 56/121, Profit: 0.00000040 BTC\n",
      "INFO:strategy.strategy:Processed batch 57/121, Profit: 0.00000040 BTC\n",
      "INFO:strategy.strategy:Processed batch 58/121, Profit: 0.00000040 BTC\n",
      "INFO:strategy.strategy:Processed batch 59/121, Profit: 0.00000040 BTC\n",
      "INFO:strategy.strategy:Processed batch 60/121, Profit: 0.00000040 BTC\n",
      "INFO:strategy.strategy:Processed batch 61/121, Profit: 0.00000040 BTC\n",
      "INFO:strategy.strategy:Processed batch 62/121, Profit: 0.00000040 BTC\n",
      "INFO:strategy.strategy:Processed batch 63/121, Profit: 0.00000040 BTC\n",
      "INFO:strategy.strategy:Processed batch 64/121, Profit: 0.00000040 BTC\n",
      "INFO:strategy.strategy:Processed batch 65/121, Profit: 0.00000040 BTC\n",
      "INFO:strategy.strategy:Processed batch 66/121, Profit: 0.00000040 BTC\n",
      "INFO:strategy.strategy:Processed batch 67/121, Profit: 0.00000040 BTC\n",
      "INFO:strategy.strategy:Processed batch 68/121, Profit: 0.00000040 BTC\n",
      "INFO:strategy.strategy:Processed batch 69/121, Profit: 0.00000040 BTC\n",
      "INFO:strategy.strategy:Processed batch 70/121, Profit: 0.00000040 BTC\n",
      "INFO:strategy.strategy:Processed batch 71/121, Profit: 0.00000040 BTC\n",
      "INFO:strategy.strategy:Processed batch 72/121, Profit: 0.00000040 BTC\n",
      "INFO:strategy.strategy:Processed batch 73/121, Profit: 0.00000040 BTC\n",
      "INFO:strategy.strategy:Processed batch 74/121, Profit: 0.00000040 BTC\n",
      "INFO:strategy.strategy:Processed batch 75/121, Profit: 0.00000040 BTC\n",
      "INFO:strategy.strategy:Processed batch 76/121, Profit: 0.00000040 BTC\n",
      "INFO:strategy.strategy:Processed batch 77/121, Profit: 0.00000040 BTC\n",
      "INFO:strategy.strategy:Processed batch 78/121, Profit: 0.00000040 BTC\n",
      "INFO:strategy.strategy:Processed batch 79/121, Profit: 0.00000040 BTC\n",
      "INFO:strategy.strategy:Processed batch 80/121, Profit: 0.00000040 BTC\n",
      "INFO:strategy.strategy:Processed batch 81/121, Profit: 0.00000040 BTC\n",
      "INFO:strategy.strategy:Processed batch 82/121, Profit: 0.00000040 BTC\n",
      "INFO:strategy.strategy:Processed batch 83/121, Profit: 0.00000040 BTC\n",
      "INFO:strategy.strategy:Processed batch 84/121, Profit: 0.00000040 BTC\n",
      "INFO:strategy.strategy:Processed batch 85/121, Profit: 0.00000040 BTC\n",
      "INFO:strategy.strategy:Processed batch 86/121, Profit: 0.00000040 BTC\n",
      "INFO:strategy.strategy:Processed batch 87/121, Profit: 0.00000040 BTC\n",
      "INFO:strategy.strategy:Processed batch 88/121, Profit: 0.00000040 BTC\n",
      "INFO:strategy.strategy:Processed batch 89/121, Profit: 0.00000040 BTC\n",
      "INFO:strategy.strategy:Processed batch 90/121, Profit: 0.00000040 BTC\n",
      "INFO:strategy.strategy:Processed batch 91/121, Profit: 0.00000040 BTC\n",
      "INFO:strategy.strategy:Processed batch 92/121, Profit: 0.00000048 BTC\n",
      "INFO:strategy.strategy:Processed batch 93/121, Profit: 0.00000050 BTC\n",
      "INFO:strategy.strategy:Processed batch 94/121, Profit: 0.00000050 BTC\n",
      "INFO:strategy.strategy:Processed batch 95/121, Profit: 0.00000050 BTC\n",
      "INFO:strategy.strategy:Processed batch 96/121, Profit: 0.00000050 BTC\n",
      "INFO:strategy.strategy:Processed batch 97/121, Profit: 0.00000050 BTC\n",
      "INFO:strategy.strategy:Processed batch 98/121, Profit: 0.00000050 BTC\n",
      "INFO:strategy.strategy:Processed batch 99/121, Profit: 0.00000050 BTC\n",
      "INFO:strategy.strategy:Processed batch 100/121, Profit: 0.00000050 BTC\n",
      "INFO:strategy.strategy:Processed batch 101/121, Profit: 0.00000050 BTC\n",
      "INFO:strategy.strategy:Processed batch 102/121, Profit: 0.00000050 BTC\n",
      "INFO:strategy.strategy:Processed batch 103/121, Profit: 0.00000052 BTC\n",
      "INFO:strategy.strategy:Processed batch 104/121, Profit: 0.00000052 BTC\n",
      "INFO:strategy.strategy:Processed batch 105/121, Profit: 0.00000052 BTC\n",
      "INFO:strategy.strategy:Processed batch 106/121, Profit: 0.00000052 BTC\n",
      "INFO:strategy.strategy:Processed batch 107/121, Profit: 0.00000052 BTC\n",
      "INFO:strategy.strategy:Processed batch 108/121, Profit: 0.00000052 BTC\n",
      "INFO:strategy.strategy:Processed batch 109/121, Profit: 0.00000052 BTC\n",
      "INFO:strategy.strategy:Processed batch 110/121, Profit: 0.00000052 BTC\n",
      "INFO:strategy.strategy:Processed batch 111/121, Profit: 0.00000052 BTC\n",
      "INFO:strategy.strategy:Processed batch 112/121, Profit: 0.00000052 BTC\n",
      "INFO:strategy.strategy:Processed batch 113/121, Profit: 0.00000052 BTC\n",
      "INFO:strategy.strategy:Processed batch 114/121, Profit: 0.00000052 BTC\n",
      "INFO:strategy.strategy:Processed batch 115/121, Profit: 0.00000060 BTC\n",
      "INFO:strategy.strategy:Processed batch 116/121, Profit: 0.00000060 BTC\n",
      "INFO:strategy.strategy:Processed batch 117/121, Profit: 0.00000060 BTC\n",
      "INFO:strategy.strategy:Processed batch 118/121, Profit: 0.00000060 BTC\n",
      "INFO:strategy.strategy:Processed batch 119/121, Profit: 0.00000060 BTC\n",
      "INFO:strategy.strategy:Processed batch 120/121, Profit: 0.00000060 BTC\n",
      "INFO:strategy.strategy:Processed batch 121/121, Profit: 0.00000060 BTC\n",
      "INFO:strategy.strategy:Closed position on bitmex: Profit = 0.00196077 BTC\n",
      "INFO:strategy.strategy:Closed position on deribit: Profit = -0.00155312 BTC\n"
     ]
    }
   ],
   "source": [
    "res_new_latency = arbitrage_backtest.run()"
   ]
  },
  {
   "cell_type": "code",
   "execution_count": 349,
   "metadata": {},
   "outputs": [
    {
     "name": "stdout",
     "output_type": "stream",
     "text": [
      "Total PnL for new fees: 0.0004082502951782334 BTC\n",
      "Total volume traded for new fees: 129.22533352864014 BTC\n"
     ]
    }
   ],
   "source": [
    "print(f\"Total PnL for new fees: {res_new_latency[0]} BTC\")\n",
    "print(f\"Total volume traded for new fees: {res_new_latency[1]} BTC\")"
   ]
  },
  {
   "cell_type": "markdown",
   "metadata": {},
   "source": [
    "Once again, with a latency of 50 ms, the strategy remains profitable but is significantly less so compared to a latency of 5 ms."
   ]
  }
 ],
 "metadata": {
  "kernelspec": {
   "display_name": "Python 3",
   "language": "python",
   "name": "python3"
  },
  "language_info": {
   "codemirror_mode": {
    "name": "ipython",
    "version": 3
   },
   "file_extension": ".py",
   "mimetype": "text/x-python",
   "name": "python",
   "nbconvert_exporter": "python",
   "pygments_lexer": "ipython3",
   "version": "3.12.0"
  }
 },
 "nbformat": 4,
 "nbformat_minor": 2
}
